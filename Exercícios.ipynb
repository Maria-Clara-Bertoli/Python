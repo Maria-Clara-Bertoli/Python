{
 "cells": [
  {
   "cell_type": "code",
   "execution_count": 30,
   "metadata": {},
   "outputs": [],
   "source": [
    "import random"
   ]
  },
  {
   "cell_type": "code",
   "execution_count": 24,
   "metadata": {},
   "outputs": [
    {
     "name": "stdout",
     "output_type": "stream",
     "text": [
      "[0, 1, 5, 7, 10]\n"
     ]
    }
   ],
   "source": [
    "lista = [0, 1, 1, 5, 7, 10, 10]\n",
    "lista_aux = lista\n",
    "for x in range(len(lista)-1):\n",
    "    if x > 0:\n",
    "        if lista[x] == lista[x-1]:\n",
    "            lista_aux.pop(x-1)\n",
    "\n",
    "print(lista)\n"
   ]
  },
  {
   "cell_type": "code",
   "execution_count": null,
   "metadata": {},
   "outputs": [],
   "source": [
    "lista = [\"Telefonou para a vítima?\", \"Esteve no local do crime?\", \"Tinha dívidas com a vítima?\", \"Mora perto da vítima?\", \"Tem histórico criminal?\"]\n",
    "lista_s = []\n",
    "lista_n = []\n",
    "\n",
    "for x in lista:\n",
    "    while True:\n",
    "        r = str(input(x))\n",
    "        if r == 'S' or r == 'N':\n",
    "            break\n",
    "        else:\n",
    "            print(\"Entrada inválida. Tente novamente!\")\n",
    "    if r == 'S':\n",
    "        lista_s.append(r)\n",
    "    else:\n",
    "        lista_n.append(r)\n",
    "\n",
    "if len(lista_s) == 2:\n",
    "    print(\"Você é suspeita!\")\n",
    "elif len(lista_s) > 2 or len(lista_s) < 5:\n",
    "    print(\"Você é cúmplice!\")\n",
    "else:\n",
    "    print(\"Você é o(a) assassino(a)!\")\n"
   ]
  },
  {
   "cell_type": "code",
   "execution_count": 40,
   "metadata": {},
   "outputs": [
    {
     "name": "stdout",
     "output_type": "stream",
     "text": [
      "[[8, 5], [4, 4]]\n"
     ]
    }
   ],
   "source": [
    "matriz = []\n",
    "linha = []\n",
    "for i in range(0, 2):\n",
    "    linha = []\n",
    "    for j in range(0, 2):\n",
    "        linha.append(random.randint(0, 10))\n",
    "    matriz.append(linha)\n",
    "print(matriz)"
   ]
  },
  {
   "cell_type": "code",
   "execution_count": 41,
   "metadata": {},
   "outputs": [
    {
     "data": {
      "text/plain": [
       "True"
      ]
     },
     "execution_count": 41,
     "metadata": {},
     "output_type": "execute_result"
    }
   ],
   "source": [
    " (1, 2, ('aa', 'ab')) > (1, 2,('aa', 'a'), 4)"
   ]
  },
  {
   "cell_type": "code",
   "execution_count": 42,
   "metadata": {},
   "outputs": [
    {
     "name": "stdout",
     "output_type": "stream",
     "text": [
      "[5, 9, 'oi']\n"
     ]
    }
   ],
   "source": [
    "lista = [3, 9, 'oi']\n",
    "lista[0] = 5\n",
    "print(lista)"
   ]
  },
  {
   "cell_type": "code",
   "execution_count": 43,
   "metadata": {},
   "outputs": [],
   "source": [
    "import datetime\n",
    "\n"
   ]
  }
 ],
 "metadata": {
  "kernelspec": {
   "display_name": "env_py",
   "language": "python",
   "name": "python3"
  },
  "language_info": {
   "codemirror_mode": {
    "name": "ipython",
    "version": 3
   },
   "file_extension": ".py",
   "mimetype": "text/x-python",
   "name": "python",
   "nbconvert_exporter": "python",
   "pygments_lexer": "ipython3",
   "version": "3.8.16"
  },
  "orig_nbformat": 4
 },
 "nbformat": 4,
 "nbformat_minor": 2
}
