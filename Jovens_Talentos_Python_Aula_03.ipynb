{
  "cells": [
    {
      "cell_type": "code",
      "execution_count": 5,
      "metadata": {
        "id": "vZNKAWI_2gqs"
      },
      "outputs": [
        {
          "ename": "ModuleNotFoundError",
          "evalue": "No module named 'pandas'",
          "output_type": "error",
          "traceback": [
            "\u001b[0;31m---------------------------------------------------------------------------\u001b[0m",
            "\u001b[0;31mModuleNotFoundError\u001b[0m                       Traceback (most recent call last)",
            "Cell \u001b[0;32mIn[5], line 1\u001b[0m\n\u001b[0;32m----> 1\u001b[0m \u001b[39mimport\u001b[39;00m \u001b[39mpandas\u001b[39;00m \u001b[39mas\u001b[39;00m \u001b[39mpd\u001b[39;00m\n\u001b[1;32m      2\u001b[0m \u001b[39mimport\u001b[39;00m \u001b[39msqlite3\u001b[39;00m \u001b[39mas\u001b[39;00m \u001b[39msql\u001b[39;00m\n",
            "\u001b[0;31mModuleNotFoundError\u001b[0m: No module named 'pandas'"
          ]
        }
      ],
      "source": [
        "import pandas as pd\n",
        "import sqlite3 as sql"
      ]
    },
    {
      "cell_type": "code",
      "execution_count": 2,
      "metadata": {
        "id": "bCNBbArI9k7v"
      },
      "outputs": [],
      "source": [
        "conexao_normalizada = sql.connect('globalstore_normalizada.db')"
      ]
    },
    {
      "cell_type": "code",
      "execution_count": 3,
      "metadata": {
        "id": "U9ciSv2K-PJI"
      },
      "outputs": [],
      "source": [
        "with conexao_normalizada:\n",
        "    products = pd.read_sql(\n",
        "        con = conexao_normalizada, \n",
        "        sql=\"select * from products\"\n",
        "    )"
      ]
    },
    {
      "cell_type": "code",
      "execution_count": null,
      "metadata": {
        "id": "D8wBef_n-o83"
      },
      "outputs": [],
      "source": [
        "products"
      ]
    },
    {
      "cell_type": "code",
      "execution_count": null,
      "metadata": {
        "id": "w22_XpMA3jFi"
      },
      "outputs": [],
      "source": [
        "products['product_name_v1'] = products['product_name'].apply(lambda x : x.replace(', ', ' - '))\n",
        "products"
      ]
    },
    {
      "cell_type": "code",
      "execution_count": null,
      "metadata": {
        "id": "J_iL3Z4h4LOb"
      },
      "outputs": [],
      "source": [
        "products['product_name_v2'] = products['product_name_v1'].apply(lambda x : x.split(' - '))\n",
        "products"
      ]
    },
    {
      "cell_type": "code",
      "execution_count": null,
      "metadata": {
        "id": "ykp5C4M44wAD"
      },
      "outputs": [],
      "source": [
        "products['product_name_prepared'] = products.apply(\n",
        "    lambda x : x['product_id'] + ' - ' + x['product_name_v2'][0] + ' (' + x['product_name_v2'][1] + ')'\n",
        "        if len(x['product_name_v2']) > 1\n",
        "        else x['product_id'] + ' - ' + x['product_name_v1'], axis = 1)\n",
        "products"
      ]
    },
    {
      "cell_type": "code",
      "execution_count": null,
      "metadata": {
        "id": "z5ne5aXlBQhc"
      },
      "outputs": [],
      "source": [
        "import re"
      ]
    },
    {
      "cell_type": "code",
      "execution_count": null,
      "metadata": {
        "id": "tDf4NvkCBSOL"
      },
      "outputs": [],
      "source": [
        "products['numeros'] = products['product_name'].apply(lambda x : re.findall('[0-9]+', x))\n",
        "products"
      ]
    },
    {
      "cell_type": "markdown",
      "metadata": {
        "id": "3-6l_ic-FNjQ"
      },
      "source": [
        "## Discretização de Variáveis"
      ]
    },
    {
      "cell_type": "code",
      "execution_count": null,
      "metadata": {
        "id": "h3GPZ_lW6qbM"
      },
      "outputs": [],
      "source": [
        "globalstore = pd.read_csv('globalstore.csv')\n",
        "globalstore"
      ]
    },
    {
      "cell_type": "code",
      "execution_count": null,
      "metadata": {
        "id": "oCKDit81AKpu"
      },
      "outputs": [],
      "source": [
        "globalstore['lucro'] = globalstore['Profit'].apply(lambda x : 1 if x > 0 else 0)"
      ]
    },
    {
      "cell_type": "code",
      "execution_count": null,
      "metadata": {
        "id": "de7OrbyEFTQ9"
      },
      "outputs": [],
      "source": [
        "globalstore['faixa'] = pd.cut(globalstore['Sales'], bins=4)"
      ]
    },
    {
      "cell_type": "code",
      "execution_count": null,
      "metadata": {
        "id": "6dAAwC3OAYH4"
      },
      "outputs": [],
      "source": [
        "globalstore['Order Date'] = globalstore['Order Date'].astype('datetime64[ns]')\n",
        "globalstore['Ship Date'] = globalstore['Ship Date'].astype('datetime64[ns]')\n",
        "globalstore['delivery_days'] = (globalstore['Ship Date'] - globalstore['Order Date']).dt.days + 1"
      ]
    },
    {
      "cell_type": "code",
      "execution_count": null,
      "metadata": {
        "id": "s-aBg_gBD0c2"
      },
      "outputs": [],
      "source": [
        "globalstore"
      ]
    },
    {
      "cell_type": "markdown",
      "metadata": {
        "id": "snmA7mcUUIgH"
      },
      "source": [
        "Atividades:\n",
        "\n",
        "Aplicar a discretização em outras 3 situações na base globalstore.\n",
        "\n",
        "Aplicar 2 outras situações para tratamento do nome dos produtos na base globalstore.\n",
        "\n",
        "Normalizar novamente da base com o tratamento de strings e a discritização das variáveis e salvar em banco de dados relacional."
      ]
    },
    {
      "cell_type": "code",
      "execution_count": null,
      "metadata": {
        "id": "ERrazoBGUFWk"
      },
      "outputs": [],
      "source": []
    }
  ],
  "metadata": {
    "colab": {
      "provenance": []
    },
    "kernelspec": {
      "display_name": "Python 3",
      "name": "python3"
    },
    "language_info": {
      "codemirror_mode": {
        "name": "ipython",
        "version": 3
      },
      "file_extension": ".py",
      "mimetype": "text/x-python",
      "name": "python",
      "nbconvert_exporter": "python",
      "pygments_lexer": "ipython3",
      "version": "3.8.16"
    }
  },
  "nbformat": 4,
  "nbformat_minor": 0
}
